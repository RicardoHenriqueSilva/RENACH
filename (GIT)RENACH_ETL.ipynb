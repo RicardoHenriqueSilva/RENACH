{
 "cells": [
  {
   "cell_type": "code",
   "execution_count": 35,
   "id": "889e5299",
   "metadata": {},
   "outputs": [
    {
     "name": "stdout",
     "output_type": "stream",
     "text": [
      "Tabela de Dados:\n",
      "     Região Habilitação Atual UF Habilitação Atual       Sexo Faixa Etária  \\\n",
      "0                Centro-Oeste     Distrito Federal  Masculino      18 a 21   \n",
      "1                Centro-Oeste     Distrito Federal  Masculino      18 a 21   \n",
      "2                Centro-Oeste     Distrito Federal  Masculino      18 a 21   \n",
      "3                Centro-Oeste     Distrito Federal  Masculino      18 a 21   \n",
      "4                Centro-Oeste     Distrito Federal  Masculino      18 a 21   \n",
      "...                       ...                  ...        ...          ...   \n",
      "4938                      Sul       Santa Catarina   Feminino     91 a 100   \n",
      "4939                      Sul       Santa Catarina   Feminino     91 a 100   \n",
      "4940                      Sul       Santa Catarina   Feminino     91 a 100   \n",
      "4941                      Sul       Santa Catarina   Feminino    101 a 120   \n",
      "4942                      Sul       Santa Catarina   Feminino    101 a 120   \n",
      "\n",
      "                      Categoria Qt. Condutor Histórico  \n",
      "0               A-Condutor Moto                    129  \n",
      "1        AB-Condutor Moto/Carro                 10.404  \n",
      "2     AC-Condutor Moto/Caminhão                      8  \n",
      "3       AD-Condutor Moto/Ônibus                     29  \n",
      "4      AE-Condutor Moto/Carreta                      2  \n",
      "...                         ...                    ...  \n",
      "4938           B-Condutor Carro                  2.637  \n",
      "4939        C-Condutor Caminhão                      8  \n",
      "4940          D-Condutor Ônibus                      2  \n",
      "4941     AB-Condutor Moto/Carro                      1  \n",
      "4942           B-Condutor Carro                    207  \n",
      "\n",
      "[4943 rows x 6 columns]\n"
     ]
    }
   ],
   "source": [
    "import pandas as pd\n",
    "\n",
    "# Passo 1: Extração\n",
    "file_path = r'C:\\Users\\ricardo\\Desktop\\RENACH\\DADOS BRUTOS\\QuantidadedecondutoreshabilitadosporregioufsexofaixaetriaporcategoriaCSVFevereiro2024.csv'\n",
    "\n",
    "# Lendo o arquivo CSV como uma lista de linhas\n",
    "with open(file_path, 'r', encoding='latin1') as file:\n",
    "    lines = file.readlines()\n",
    "\n",
    "# Separando cada linha em colunas com base na vírgula e removendo as aspas extras\n",
    "data = [line.strip().replace('\"', '').split(',') for line in lines]\n",
    "\n",
    "# Definindo a primeira linha como cabeçalho\n",
    "header = data[0]\n",
    "data = data[1:]\n",
    "\n",
    "# Convertendo a lista de listas em um DataFrame\n",
    "df = pd.DataFrame(data, columns=header)\n",
    "\n",
    "# Exibir o DataFrame\n",
    "print(\"Tabela de Dados:\")\n",
    "print(df)\n"
   ]
  },
  {
   "cell_type": "code",
   "execution_count": 36,
   "id": "db242c5a",
   "metadata": {},
   "outputs": [
    {
     "data": {
      "text/html": [
       "<div>\n",
       "<style scoped>\n",
       "    .dataframe tbody tr th:only-of-type {\n",
       "        vertical-align: middle;\n",
       "    }\n",
       "\n",
       "    .dataframe tbody tr th {\n",
       "        vertical-align: top;\n",
       "    }\n",
       "\n",
       "    .dataframe thead th {\n",
       "        text-align: right;\n",
       "    }\n",
       "</style>\n",
       "<table border=\"1\" class=\"dataframe\">\n",
       "  <thead>\n",
       "    <tr style=\"text-align: right;\">\n",
       "      <th></th>\n",
       "      <th>Região Habilitação Atual</th>\n",
       "      <th>UF Habilitação Atual</th>\n",
       "      <th>Sexo</th>\n",
       "      <th>Faixa Etária</th>\n",
       "      <th>Categoria</th>\n",
       "      <th>Qt. Condutor Histórico</th>\n",
       "    </tr>\n",
       "  </thead>\n",
       "  <tbody>\n",
       "    <tr>\n",
       "      <th>0</th>\n",
       "      <td>Centro-Oeste</td>\n",
       "      <td>Distrito Federal</td>\n",
       "      <td>Masculino</td>\n",
       "      <td>18 a 21</td>\n",
       "      <td>A-Condutor Moto</td>\n",
       "      <td>129</td>\n",
       "    </tr>\n",
       "    <tr>\n",
       "      <th>1</th>\n",
       "      <td>Centro-Oeste</td>\n",
       "      <td>Distrito Federal</td>\n",
       "      <td>Masculino</td>\n",
       "      <td>18 a 21</td>\n",
       "      <td>AB-Condutor Moto/Carro</td>\n",
       "      <td>10.404</td>\n",
       "    </tr>\n",
       "    <tr>\n",
       "      <th>2</th>\n",
       "      <td>Centro-Oeste</td>\n",
       "      <td>Distrito Federal</td>\n",
       "      <td>Masculino</td>\n",
       "      <td>18 a 21</td>\n",
       "      <td>AC-Condutor Moto/Caminhão</td>\n",
       "      <td>8</td>\n",
       "    </tr>\n",
       "    <tr>\n",
       "      <th>3</th>\n",
       "      <td>Centro-Oeste</td>\n",
       "      <td>Distrito Federal</td>\n",
       "      <td>Masculino</td>\n",
       "      <td>18 a 21</td>\n",
       "      <td>AD-Condutor Moto/Ônibus</td>\n",
       "      <td>29</td>\n",
       "    </tr>\n",
       "    <tr>\n",
       "      <th>4</th>\n",
       "      <td>Centro-Oeste</td>\n",
       "      <td>Distrito Federal</td>\n",
       "      <td>Masculino</td>\n",
       "      <td>18 a 21</td>\n",
       "      <td>AE-Condutor Moto/Carreta</td>\n",
       "      <td>2</td>\n",
       "    </tr>\n",
       "  </tbody>\n",
       "</table>\n",
       "</div>"
      ],
      "text/plain": [
       "  Região Habilitação Atual UF Habilitação Atual       Sexo Faixa Etária  \\\n",
       "0             Centro-Oeste     Distrito Federal  Masculino      18 a 21   \n",
       "1             Centro-Oeste     Distrito Federal  Masculino      18 a 21   \n",
       "2             Centro-Oeste     Distrito Federal  Masculino      18 a 21   \n",
       "3             Centro-Oeste     Distrito Federal  Masculino      18 a 21   \n",
       "4             Centro-Oeste     Distrito Federal  Masculino      18 a 21   \n",
       "\n",
       "                   Categoria Qt. Condutor Histórico  \n",
       "0            A-Condutor Moto                    129  \n",
       "1     AB-Condutor Moto/Carro                 10.404  \n",
       "2  AC-Condutor Moto/Caminhão                      8  \n",
       "3    AD-Condutor Moto/Ônibus                     29  \n",
       "4   AE-Condutor Moto/Carreta                      2  "
      ]
     },
     "execution_count": 36,
     "metadata": {},
     "output_type": "execute_result"
    }
   ],
   "source": [
    "df.head()"
   ]
  },
  {
   "cell_type": "code",
   "execution_count": 37,
   "id": "8f98dfef",
   "metadata": {},
   "outputs": [
    {
     "name": "stdout",
     "output_type": "stream",
     "text": [
      "Valores Nulos:\n",
      "Região Habilitação Atual    0\n",
      "UF Habilitação Atual        0\n",
      "Sexo                        0\n",
      "Faixa Etária                0\n",
      "Categoria                   0\n",
      "Qt. Condutor Histórico      0\n",
      "dtype: int64\n",
      "\n",
      "Número de linhas duplicadas: 0\n",
      "\n",
      "Estatísticas dos Dados:\n",
      "       Região Habilitação Atual UF Habilitação Atual       Sexo Faixa Etária  \\\n",
      "count                      4943                 4943       4943         4943   \n",
      "unique                        5                   27          2           12   \n",
      "top                    Nordeste               Paraná  Masculino      41 a 50   \n",
      "freq                       1603                  227       2768          560   \n",
      "\n",
      "               Categoria Qt. Condutor Histórico  \n",
      "count               4943                   4943  \n",
      "unique                14                   2585  \n",
      "top     B-Condutor Carro                      1  \n",
      "freq                 597                    347  \n"
     ]
    }
   ],
   "source": [
    "# Passo 2: Verificação de Qualidade dos Dados\n",
    "def verificar_qualidade_dados(df):\n",
    "    # Verificar valores nulos\n",
    "    valores_nulos = df.isnull().sum()\n",
    "    print(\"Valores Nulos:\")\n",
    "    print(valores_nulos)\n",
    "    \n",
    "    # Verificar linhas duplicadas\n",
    "    linhas_duplicadas = df.duplicated().sum()\n",
    "    print(\"\\nNúmero de linhas duplicadas:\", linhas_duplicadas)\n",
    "    \n",
    "    # Verificar estatísticas básicas\n",
    "    estatisticas = df.describe(include='all')\n",
    "    print(\"\\nEstatísticas dos Dados:\")\n",
    "    print(estatisticas)\n",
    "\n",
    "# Executar verificação de qualidade dos dados\n",
    "verificar_qualidade_dados(df)"
   ]
  },
  {
   "cell_type": "code",
   "execution_count": 39,
   "id": "d3c6c0f4",
   "metadata": {},
   "outputs": [
    {
     "name": "stdout",
     "output_type": "stream",
     "text": [
      "O DataFrame foi salvo como 'C:\\Users\\ricardo\\Desktop\\RENACH\\DADOS TRATADOS\\condutores-habilitados-fev-2024-tratado.xlsx'.\n"
     ]
    }
   ],
   "source": [
    "# Caminho para salvar o arquivo Excel\n",
    "output_path = r'C:\\Users\\ricardo\\Desktop\\RENACH\\DADOS TRATADOS\\condutores-habilitados-fev-2024-tratado.xlsx'\n",
    "\n",
    "# Salvar o DataFrame como um arquivo Excel (.xlsx)\n",
    "df.to_excel(output_path, index=False)\n",
    "\n",
    "print(f\"O DataFrame foi salvo como '{output_path}'.\")"
   ]
  }
 ],
 "metadata": {
  "kernelspec": {
   "display_name": "Python 3 (ipykernel)",
   "language": "python",
   "name": "python3"
  },
  "language_info": {
   "codemirror_mode": {
    "name": "ipython",
    "version": 3
   },
   "file_extension": ".py",
   "mimetype": "text/x-python",
   "name": "python",
   "nbconvert_exporter": "python",
   "pygments_lexer": "ipython3",
   "version": "3.9.13"
  }
 },
 "nbformat": 4,
 "nbformat_minor": 5
}
