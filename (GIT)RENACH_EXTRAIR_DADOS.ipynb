{
 "cells": [
  {
   "cell_type": "code",
   "execution_count": 2,
   "id": "a70fd226",
   "metadata": {},
   "outputs": [],
   "source": [
    "import urllib.request\n",
    "import os"
   ]
  },
  {
   "cell_type": "code",
   "execution_count": null,
   "id": "cb279dee",
   "metadata": {},
   "outputs": [],
   "source": [
    "# Solicitar ao usuário o número do mês e o ano desejados\n",
    "mes = input(\"Digite o número do mês, sempre com dois dígitos (ex: 01 para janeiro): \")\n",
    "ano = input(\"Digite o ano (ex: 2023): \")\n",
    "\n",
    "# URL do arquivo no FTP\n",
    "file_url = f\"https://www.gov.br/transportes/pt-br/pt-br/assuntos/transito/conteudo-Senatran/estatisticas-quantidade-de-habilitados-denatran_{ano}_{mes}.csv\"\n",
    "\n",
    "# Diretório local para salvar o arquivo baixado\n",
    "local_dir = \"C:/Users/ricardo/Desktop/RENACH/DADOS BRUTOS\"\n",
    "\n",
    "# Nome do arquivo local\n",
    "local_file = f\"condutores_habilitados_{ano}_{mes}.csv\"\n",
    "\n",
    "# Baixar o arquivo do FTP\n",
    "urllib.request.urlretrieve(file_url, filename=os.path.join(local_dir, local_file))\n",
    "\n",
    "print(\"Download concluído.\")\n"
   ]
  }
 ],
 "metadata": {
  "kernelspec": {
   "display_name": "Python 3 (ipykernel)",
   "language": "python",
   "name": "python3"
  },
  "language_info": {
   "codemirror_mode": {
    "name": "ipython",
    "version": 3
   },
   "file_extension": ".py",
   "mimetype": "text/x-python",
   "name": "python",
   "nbconvert_exporter": "python",
   "pygments_lexer": "ipython3",
   "version": "3.9.13"
  }
 },
 "nbformat": 4,
 "nbformat_minor": 5
}
